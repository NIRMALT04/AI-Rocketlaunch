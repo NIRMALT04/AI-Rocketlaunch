{
 "cells": [
  {
   "cell_type": "code",
   "execution_count": 3,
   "metadata": {},
   "outputs": [
    {
     "data": {
      "text/html": [
       "\n",
       "        <iframe\n",
       "            width=\"100%\"\n",
       "            height=\"650\"\n",
       "            src=\"http://localhost:8001/\"\n",
       "            frameborder=\"0\"\n",
       "            allowfullscreen\n",
       "            \n",
       "        ></iframe>\n",
       "        "
      ],
      "text/plain": [
       "<IPython.lib.display.IFrame at 0x11d66149dc0>"
      ]
     },
     "metadata": {},
     "output_type": "display_data"
    }
   ],
   "source": [
    "import dash\n",
    "from dash import dcc, html\n",
    "import plotly.graph_objs as go\n",
    "import numpy as np\n",
    "\n",
    "app = dash.Dash(__name__)\n",
    "\n",
    "\n",
    "g0 = 9.7911  \n",
    "g80 = 9.5534  \n",
    "surface_elevation = 1471.5  \n",
    "\n",
    "\n",
    "time = np.linspace(0, 100, 500)\n",
    "\n",
    "\n",
    "def gravity(h):\n",
    "    return g0 + (g80 - g0) * (h / 80111)\n",
    "\n",
    "\n",
    "def rocket_trajectory(t):\n",
    "    h = surface_elevation + 0.5 * g0 * t**2\n",
    "    return h\n",
    "\n",
    "\n",
    "altitude = rocket_trajectory(time)\n",
    "\n",
    "app.layout = html.Div([\n",
    "    dcc.Graph(\n",
    "        id='rocket-animation',\n",
    "        figure={\n",
    "            'data': [\n",
    "                go.Scatter(\n",
    "                    x=[0],\n",
    "                    y=[surface_elevation],\n",
    "                    mode='markers',\n",
    "                    marker=dict(size=20)\n",
    "                )\n",
    "            ],\n",
    "            'layout': go.Layout(\n",
    "                xaxis=dict(range=[0, 100], title='Time (s)'),\n",
    "                yaxis=dict(range=[0, max(altitude)+1000], title='Altitude (m)'),\n",
    "                title='Rocket Launch Simulation',\n",
    "                updatemenus=[{\n",
    "                    'type': 'buttons',\n",
    "                    'buttons': [{\n",
    "                        'label': 'Play',\n",
    "                        'method': 'animate',\n",
    "                        'args': [None, {'frame': {'duration': 50, 'redraw': True}, 'fromcurrent': True}]\n",
    "                    }]\n",
    "                }]\n",
    "            )\n",
    "        },\n",
    "        animate=True\n",
    "    )\n",
    "])\n",
    "\n",
    "frames = [go.Frame(data=[go.Scatter(x=[t], y=[rocket_trajectory(t)])], name=str(t)) for t in time]\n",
    "\n",
    "app.layout['rocket-animation'].figure['frames'] = frames\n",
    "\n",
    "if __name__ == '__main__':\n",
    "    app.run_server(debug=True,port=8001,host='localhost')\n"
   ]
  }
 ],
 "metadata": {
  "kernelspec": {
   "display_name": "Python 3",
   "language": "python",
   "name": "python3"
  },
  "language_info": {
   "codemirror_mode": {
    "name": "ipython",
    "version": 3
   },
   "file_extension": ".py",
   "mimetype": "text/x-python",
   "name": "python",
   "nbconvert_exporter": "python",
   "pygments_lexer": "ipython3",
   "version": "3.12.4"
  }
 },
 "nbformat": 4,
 "nbformat_minor": 2
}
